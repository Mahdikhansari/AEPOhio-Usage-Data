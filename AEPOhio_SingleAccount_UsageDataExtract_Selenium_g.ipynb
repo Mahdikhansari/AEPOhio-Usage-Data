{
 "cells": [
  {
   "cell_type": "code",
   "execution_count": 1,
   "metadata": {},
   "outputs": [],
   "source": [
    "from selenium import webdriver\n",
    "from selenium.webdriver.common.keys import Keys\n",
    "from selenium.webdriver.common.by import By\n",
    "from selenium.webdriver.support.ui import WebDriverWait, Select\n",
    "from selenium.webdriver.support import expected_conditions as EC\n",
    "import time"
   ]
  },
  {
   "cell_type": "markdown",
   "metadata": {},
   "source": [
    "- #### Test Conditions"
   ]
  },
  {
   "cell_type": "code",
   "execution_count": 3,
   "metadata": {},
   "outputs": [],
   "source": [
    "# Account info\n",
    "username = 'username'\n",
    "password = 'password'\n",
    "AccountNumber = '123456789'        \n",
    "\n",
    "# Start day is the first day of this month\n",
    "# End day is today\n",
    "from datetime import date\n",
    "StartDate = date.today().strftime('%m/01/%Y')\n",
    "EndDate = date.today().strftime('%m/%d/%Y')"
   ]
  },
  {
   "cell_type": "markdown",
   "metadata": {},
   "source": [
    "- #### WebDriver"
   ]
  },
  {
   "cell_type": "code",
   "execution_count": 2,
   "metadata": {},
   "outputs": [],
   "source": [
    "# Sends keys with delay in between\n",
    "def send_keys_delay(element, word, delay):    \n",
    "    for c in word:\n",
    "        element.send_keys(c)\n",
    "        time.sleep(delay)"
   ]
  },
  {
   "cell_type": "code",
   "execution_count": 4,
   "metadata": {},
   "outputs": [],
   "source": [
    "# Firefox profile\n",
    "profile = webdriver.FirefoxProfile()\n",
    "profile.set_preference('browser.download.folderList', 2) # custom location\n",
    "profile.set_preference('browser.download.manager.showWhenStarting', False)\n",
    "profile.set_preference('browser.download.dir', '/tmp')\n",
    "profile.set_preference('browser.helperApps.neverAsk.saveToDisk', 'text/csv')"
   ]
  },
  {
   "cell_type": "code",
   "execution_count": 5,
   "metadata": {},
   "outputs": [],
   "source": [
    "# Firefox driver\n",
    "driver = webdriver.Firefox(profile)"
   ]
  },
  {
   "cell_type": "markdown",
   "metadata": {},
   "source": [
    "- #### AEPOhio.com Log in"
   ]
  },
  {
   "cell_type": "code",
   "execution_count": 6,
   "metadata": {},
   "outputs": [],
   "source": [
    "# opens AEPOhio.com homepage\n",
    "driver.get(\"https://www.aepohio.com\")\n",
    "assert \"AEP Ohio\" in driver.title"
   ]
  },
  {
   "cell_type": "code",
   "execution_count": 7,
   "metadata": {},
   "outputs": [],
   "source": [
    "## Login\n",
    "# clicks on login button and login form opens\n",
    "elem = driver.find_element_by_xpath(\n",
    "    \"/html/body/form/span[2]/noindexfb/nav/div/div[2]/span/button\").click()\n",
    "\n",
    "# Username\n",
    "# types the username in the username field\n",
    "elem = driver.find_element_by_id (\"ctl05_ctl04_ctl00_TbUserID\")\n",
    "elem.clear()\n",
    "elem.send_keys(username)\n",
    "\n",
    "#Password\n",
    "# types the password in the password field\n",
    "elem = driver.find_element_by_id (\"ctl05_ctl04_ctl00_TbPassword\")\n",
    "elem.clear()\n",
    "elem.send_keys(password)\n",
    "\n",
    "# Login\n",
    "# clicks on login button\n",
    "elem = driver.find_element_by_id (\"ctl05_ctl04_ctl00_BtnLogin\").click()\n",
    "# the page redirects to /account\n",
    "# the usage data is in /account/usage"
   ]
  },
  {
   "cell_type": "markdown",
   "metadata": {},
   "source": [
    "- #### Usage Data Extraction"
   ]
  },
  {
   "cell_type": "code",
   "execution_count": 8,
   "metadata": {},
   "outputs": [],
   "source": [
    "# opens AEPOhio.com/Account/Usage\n",
    "driver.get(\"https://www.aepohio.com/account/usage/\")"
   ]
  },
  {
   "cell_type": "code",
   "execution_count": 10,
   "metadata": {},
   "outputs": [],
   "source": [
    "# switch back to default content\n",
    "driver.switch_to.default_content()\n",
    "\n",
    "# select the account drop list and \n",
    "select = Select(driver.find_element_by_xpath(\n",
    "    '//*[@id=\"cphContentMain_ctl00_ctl02_ctl00_DdlAccounts\"]'))"
   ]
  },
  {
   "cell_type": "code",
   "execution_count": 11,
   "metadata": {},
   "outputs": [],
   "source": [
    "## Dropdown List\n",
    "# select a value in the drop list\n",
    "select.select_by_value(AccountNumber)"
   ]
  },
  {
   "cell_type": "code",
   "execution_count": 12,
   "metadata": {},
   "outputs": [],
   "source": [
    "## iFrame switch\n",
    "# there is an iframe which shows the AJAX type of Google Analytics\n",
    "# so first the driver swtichs to the dest iframe\n",
    "# as it will show up by some delay, we used WebDriveWait\n",
    "frame = WebDriverWait(driver, 10).until(\n",
    "    EC.presence_of_element_located((\n",
    "        By.XPATH,'//*[@id=\"energy_usage_trends-frame\"]'))\n",
    ")\n",
    "driver.switch_to.frame(frame)"
   ]
  },
  {
   "cell_type": "code",
   "execution_count": 13,
   "metadata": {},
   "outputs": [],
   "source": [
    "## Scroll Down\n",
    "# scrolls down to the the three bar button\n",
    "driver.execute_script(\"arguments[0].scrollIntoView(true);\",\n",
    "                      WebDriverWait(driver, 10).until(\n",
    "                          EC.visibility_of_element_located((\n",
    "                              By.XPATH,\n",
    "                              '/html/body/div[3]/div[2]/div/div/div[2]/button'))))"
   ]
  },
  {
   "cell_type": "code",
   "execution_count": 14,
   "metadata": {},
   "outputs": [],
   "source": [
    "## AJAX wait\n",
    "# waits for the AJAX Google Analytics to load\n",
    "\n",
    "# scrolls down to make it visible\n",
    "driver.execute_script(\"arguments[0].scrollIntoView(true);\",\n",
    "                      WebDriverWait(driver, 10).until(\n",
    "                          EC.visibility_of_element_located((\n",
    "                              By.XPATH,\n",
    "                              '/html/body/div[3]/div[2]/div/div/div[2]/button'))))\n",
    "\n",
    "# waits for it to be clickable \n",
    "elem = WebDriverWait(driver, 10).until(\n",
    "    EC.element_to_be_clickable((\n",
    "        By.XPATH,'/html/body/div[3]/div[2]/div/div/div[2]/button')))\n",
    "\n",
    "# after a lot of tests, it seems still we need a short delay here(just half a second)\n",
    "time.sleep(0.5)\n",
    "\n",
    "# clicks on the 3 bars button at the upper right to open the list\n",
    "elem.click()"
   ]
  },
  {
   "cell_type": "code",
   "execution_count": 15,
   "metadata": {},
   "outputs": [],
   "source": [
    "# clicks on the 'Export All Data CSV'\n",
    "# then it driver should wait for the dialog box \n",
    "elem = driver.find_element_by_xpath(\n",
    "    '/html/body/div[3]/div[2]/div/div/div[2]/ul/li[5]/a').click()"
   ]
  },
  {
   "cell_type": "code",
   "execution_count": 16,
   "metadata": {},
   "outputs": [],
   "source": [
    "# waits for the selection dialog box 'modal-Content'\n",
    "elem = WebDriverWait(driver, 10).until(\n",
    "    EC.presence_of_element_located((\n",
    "        By.XPATH,'/html/body/div[5]/div/div'))\n",
    ")"
   ]
  },
  {
   "cell_type": "code",
   "execution_count": 17,
   "metadata": {},
   "outputs": [],
   "source": [
    "## Time\n",
    "# From Date\n",
    "elem = driver.find_element_by_xpath('//*[@id=\"green_button_form_start_green_button_date_range\"]')\n",
    "elem.clear()\n",
    "# as it the field won't keep a date if you send it in one piece\n",
    "# so I used a delayed send\n",
    "send_keys_delay(elem, StartDate, 0.1)\n",
    "\n",
    "# End Date\n",
    "elem = driver.find_element_by_xpath('//*[@id=\"green_button_form_end_green_button_date_range\"]')\n",
    "elem.clear()\n",
    "# as it the field won't keep a date if you send it in one piece\n",
    "# so I used a delayed send\n",
    "send_keys_delay(elem, EndDate, 0.1)"
   ]
  },
  {
   "cell_type": "code",
   "execution_count": 18,
   "metadata": {},
   "outputs": [],
   "source": [
    "## Download\n",
    "# clicks on download\n",
    "elem = driver.find_element_by_xpath(\n",
    "    '/html/body/div[5]/div/div/div[3]/button[2]').click()"
   ]
  }
 ],
 "metadata": {
  "kernelspec": {
   "display_name": "Python 3",
   "language": "python",
   "name": "python3"
  },
  "language_info": {
   "codemirror_mode": {
    "name": "ipython",
    "version": 3
   },
   "file_extension": ".py",
   "mimetype": "text/x-python",
   "name": "python",
   "nbconvert_exporter": "python",
   "pygments_lexer": "ipython3",
   "version": "3.8.3"
  }
 },
 "nbformat": 4,
 "nbformat_minor": 4
}
